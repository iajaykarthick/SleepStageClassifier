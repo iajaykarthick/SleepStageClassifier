{
 "cells": [
  {
   "cell_type": "markdown",
   "metadata": {},
   "source": [
    "## Fast Independent Component Analysis (FastICA) Algorithm\n"
   ]
  },
  {
   "cell_type": "markdown",
   "metadata": {},
   "source": [
    "\n",
    "The FastICA algorithm is a popular and efficient method for Independent Component Analysis (ICA), aimed at separating a multivariate signal into additive, independent non-Gaussian signals. This technique finds extensive applications in signal processing, including the analysis of EEG, EOG, and EMG signals. Below is a detailed description of the FastICA algorithm, including its mathematical foundation and geometric interpretation.\n",
    "\n",
    "### Mathematical Formulation\n",
    "\n",
    "FastICA seeks to maximize the non-Gaussianity of the components of a mixed signal, under the assumption that the source signals are statistically independent and non-Gaussian. The algorithm involves several key steps:\n",
    "\n",
    "#### 1. Centering\n",
    "\n",
    "First, the observed data \\(X\\) is centered:\n",
    "$$X_{centered} = X - \\mathbb{E}[X]$$\n",
    "where \\(\\mathbb{E}[X]\\) is the mean of \\(X\\). Centering ensures that the data has a mean of zero.\n",
    "\n",
    "#### 2. Whitening\n",
    "\n",
    "Whitening transforms the observed data so that its components are uncorrelated and their variances equal unity. This is achieved by computing the eigenvalue decomposition of the covariance matrix of \\(X\\):\n",
    "$$Cov(X) = EDE^T$$\n",
    "and then transforming \\(X\\) to \\(X_{whitened}\\) using:\n",
    "$$X_{whitened} = ED^{-1/2}E^T X_{centered}$$\n",
    "where \\(D\\) is the diagonal matrix of eigenvalues, and \\(E\\) is the matrix of eigenvectors.\n",
    "\n",
    "#### 3. Maximizing Non-Gaussianity\n",
    "\n",
    "FastICA iteratively maximizes the non-Gaussianity of the components, typically measured by negentropy. The update rule for the weight vector \\(w\\) in each iteration is given by:\n",
    "$$w^+ = \\mathbb{E}[Xg(w^TX)] - \\mathbb{E}[g'(w^TX)]w$$\n",
    "where \\(g(\\cdot)\\) is a non-linear function, and \\(g'(\\cdot)\\) is its derivative. Common choices for \\(g(\\cdot)\\) include \\(\\tanh(x)\\) or \\(x^3\\).\n",
    "\n",
    "#### 4. Normalization\n",
    "\n",
    "After each update, \\(w\\) is normalized:\n",
    "$$w = \\frac{w^+}{\\|w^+\\|}$$\n",
    "to ensure that it remains a unit vector.\n",
    "\n",
    "#### 5. Decorrelation\n",
    "\n",
    "To ensure that the components remain independent, FastICA employs a symmetric decorrelation step, effectively orthogonalizing the weight vectors.\n",
    "\n",
    "### Geometric Interpretation\n",
    "\n",
    "Geometrically, FastICA can be interpreted as finding directions in the data space along which the projections of the data have maximal non-Gaussianity. The whitening step corresponds to transforming the data into a spherical shape, where the covariance matrix is the identity matrix. This transformation simplifies the problem, making it easier to find the independent components by rotating the axes in the whitened space to match the directions of the original, independent sources.\n",
    "\n",
    "The update rule for \\(w\\) effectively rotates and scales the axes in the whitened space to align with the directions of maximum non-Gaussianity, thereby recovering the independent components. The normalization and decorrelation steps ensure that the components remain independent as the algorithm iterates.\n",
    "\n",
    "### Conclusion\n",
    "\n",
    "FastICA is a powerful method for separating independent components from multivariate data, leveraging the non-Gaussianity of the source signals. Its efficiency and simplicity make it suitable for a wide range of applications in signal processing and data analysis.\n"
   ]
  },
  {
   "cell_type": "markdown",
   "metadata": {},
   "source": [
    "### Implementation"
   ]
  },
  {
   "cell_type": "code",
   "execution_count": null,
   "metadata": {},
   "outputs": [],
   "source": []
  },
  {
   "cell_type": "code",
   "execution_count": null,
   "metadata": {},
   "outputs": [],
   "source": []
  },
  {
   "cell_type": "markdown",
   "metadata": {},
   "source": [
    "### Limitations of FastICA\n",
    "\n",
    "While FastICA is a powerful algorithm for Independent Component Analysis, known for its efficiency and ease of use, there are several limitations specific to its implementation and operational characteristics.\n",
    "\n",
    "#### Sensitivity to Initial Conditions\n",
    "\n",
    "- **Description**: FastICA's convergence to a solution can be significantly influenced by its initial starting point. The algorithm iteratively updates the unmixing matrix from an initial guess towards maximizing non-Gaussianity.\n",
    "- **Impact**: Poor initialization can lead to slow convergence or convergence to local optima that do not represent the best separation of source signals.\n",
    "\n",
    "#### Fixed Number of Components\n",
    "\n",
    "- **Description**: FastICA requires the specification of the number of independent components to be extracted.\n",
    "- **Impact**: Determining the correct number of components a priori can be challenging. An incorrect number of components can lead to overfitting (extracting too many components) or underfitting (missing significant components), which affects the quality of the separation and the interpretability of the results.\n",
    "\n",
    "#### Performance in High-Dimensional Data\n",
    "\n",
    "- **Description**: While FastICA is designed to be efficient, its performance can degrade with very high-dimensional data or a large number of observations.\n",
    "- **Impact**: The computational cost and memory requirements increase with data dimensionality, which can limit FastICA's applicability to very large datasets or necessitate dimensionality reduction preprocessing steps.\n",
    "\n",
    "Note: the non-Gaussianity and independence assumptions are foundational limitation to all ICA algorithms.\n"
   ]
  },
  {
   "cell_type": "markdown",
   "metadata": {},
   "source": []
  }
 ],
 "metadata": {
  "kernelspec": {
   "display_name": "ecg_proj_env",
   "language": "python",
   "name": "python3"
  },
  "language_info": {
   "codemirror_mode": {
    "name": "ipython",
    "version": 3
   },
   "file_extension": ".py",
   "mimetype": "text/x-python",
   "name": "python",
   "nbconvert_exporter": "python",
   "pygments_lexer": "ipython3",
   "version": "3.9.13"
  }
 },
 "nbformat": 4,
 "nbformat_minor": 2
}
